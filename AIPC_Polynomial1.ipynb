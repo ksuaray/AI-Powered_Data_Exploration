{
  "nbformat": 4,
  "nbformat_minor": 0,
  "metadata": {
    "colab": {
      "provenance": [],
      "authorship_tag": "ABX9TyPW5UnKh6jNp0T5nVn48zXf",
      "include_colab_link": true
    },
    "kernelspec": {
      "name": "python3",
      "display_name": "Python 3"
    },
    "language_info": {
      "name": "python"
    }
  },
  "cells": [
    {
      "cell_type": "markdown",
      "metadata": {
        "id": "view-in-github",
        "colab_type": "text"
      },
      "source": [
        "<a href=\"https://colab.research.google.com/github/ksuaray/AI-Powered_Data_Exploration/blob/main/AIPC_Polynomial1.ipynb\" target=\"_parent\"><img src=\"https://colab.research.google.com/assets/colab-badge.svg\" alt=\"Open In Colab\"/></a>"
      ]
    },
    {
      "cell_type": "markdown",
      "source": [
        "#AI Powered Calculus\n",
        "\n",
        "Write Function Type"
      ],
      "metadata": {
        "id": "Bdzlk1Ui2pN8"
      }
    },
    {
      "cell_type": "markdown",
      "source": [
        "$f(x) = \\frac{x^4+x^3-x^2-x}{x+1}$"
      ],
      "metadata": {
        "id": "Myq4p1WG2_xY"
      }
    },
    {
      "cell_type": "markdown",
      "source": [
        "###a. 1.1 Functions and their Representations and 1.2 A Catalog of Essential Functions\n",
        "\n",
        "DOMAIN; EVALUATION; PIECEWISE FUNCTIONS; CATEGORIES OF FUNCTIONS"
      ],
      "metadata": {
        "id": "vDnnZeMa72pb"
      }
    },
    {
      "cell_type": "code",
      "source": [
        "# prompt: show me the domain of f(x). Use latex so I can see it in markdown\n",
        "\n"
      ],
      "metadata": {
        "id": "a3t1DIXMPDs8"
      },
      "execution_count": null,
      "outputs": []
    },
    {
      "cell_type": "markdown",
      "source": [],
      "metadata": {
        "id": "U8EwHdwIS0WV"
      }
    },
    {
      "cell_type": "markdown",
      "source": [
        "### b. 1.3 The Limit of a Function and 1.4 Calculating Limits\n",
        "\n",
        "DSP; FERC"
      ],
      "metadata": {
        "id": "wKcrMzP_78Io"
      }
    },
    {
      "cell_type": "code",
      "source": [
        "# prompt: show me step by step with no code how to find the limit as x approaches -1 of f(x). Use latex so I can see it in markdown\n",
        "\n"
      ],
      "metadata": {
        "id": "l7hiUTAfWO5p"
      },
      "execution_count": null,
      "outputs": []
    },
    {
      "cell_type": "markdown",
      "source": [],
      "metadata": {
        "id": "OfhK41X6WpzC"
      }
    },
    {
      "cell_type": "markdown",
      "source": [
        "### c. 1.5 Continuity\n",
        "\n",
        "DOMAIN; TYPES OF DISCONTINUITIES"
      ],
      "metadata": {
        "id": "wmsUcbLp8BaT"
      }
    },
    {
      "cell_type": "code",
      "source": [
        "# prompt: show me where f(x) is continuous with no code. Use latex so I can see it in markdown\n",
        "\n"
      ],
      "metadata": {
        "id": "IDneyDg98H6f"
      },
      "execution_count": null,
      "outputs": []
    },
    {
      "cell_type": "markdown",
      "source": [],
      "metadata": {
        "id": "KYoEoqIhXHmU"
      }
    },
    {
      "cell_type": "markdown",
      "source": [
        "### d. 1.6 Limits Involving Infinity\n",
        "\n",
        "LIMITS AT ∞; INFINITE LIMITS"
      ],
      "metadata": {
        "id": "b_vCldwX8IUe"
      }
    },
    {
      "cell_type": "code",
      "source": [
        "# prompt: show me the limit as x approaches infinity of f(x) step by step using no code. Use latex so I can see it in markdown, and be careful with the algebra\n",
        "\n"
      ],
      "metadata": {
        "id": "dNXFvKlPYuev"
      },
      "execution_count": null,
      "outputs": []
    },
    {
      "cell_type": "markdown",
      "source": [],
      "metadata": {
        "id": "TiRqxoD0Y1d5"
      }
    },
    {
      "cell_type": "markdown",
      "source": [
        "### Graphical Summary"
      ],
      "metadata": {
        "id": "sPsIlMXEFfhT"
      }
    },
    {
      "cell_type": "code",
      "source": [
        "# prompt: create an interactive graph in the cartesian x-y plane and explanations that can tie together all of the concepts learned in this notebook above\n",
        "\n"
      ],
      "metadata": {
        "id": "Zl6o9rEMY2BK",
        "collapsed": true
      },
      "execution_count": null,
      "outputs": []
    }
  ]
}